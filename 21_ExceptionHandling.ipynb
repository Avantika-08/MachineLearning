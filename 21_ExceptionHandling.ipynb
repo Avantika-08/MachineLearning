{
 "cells": [
  {
   "cell_type": "markdown",
   "metadata": {},
   "source": [
    "## Difference between error and exception\n",
    "An error is an issue in a program that prevents the program from completing its task. An exception is a condition that interrupts the normal flow of the program"
   ]
  },
  {
   "cell_type": "code",
   "execution_count": 2,
   "metadata": {},
   "outputs": [
    {
     "name": "stdout",
     "output_type": "stream",
     "text": [
      "An exception has occured\n"
     ]
    }
   ],
   "source": [
    "try:\n",
    "    ##code block where exception can occur\n",
    "    a=b\n",
    "except:\n",
    "    ##message for exception\n",
    "    print(\"An exception has occured\")"
   ]
  },
  {
   "cell_type": "code",
   "execution_count": 6,
   "metadata": {},
   "outputs": [
    {
     "name": "stdout",
     "output_type": "stream",
     "text": [
      "unsupported operand type(s) for +: 'int' and 'str'\n"
     ]
    }
   ],
   "source": [
    "try:\n",
    "\n",
    "    a=1\n",
    "    b=\"s\"\n",
    "    c=a+b\n",
    "except NameError as ex1:\n",
    "    print(\"The user has not defined the variable\")\n",
    "except Exception as ex:             #Exception is the superclass; always in the last\n",
    "    print(ex)"
   ]
  },
  {
   "cell_type": "code",
   "execution_count": 7,
   "metadata": {},
   "outputs": [
    {
     "name": "stdout",
     "output_type": "stream",
     "text": [
      "4\n"
     ]
    }
   ],
   "source": [
    "##try-else\n",
    "try:\n",
    "    a=1\n",
    "    b=3\n",
    "    c=a+b\n",
    "except NameError as ex1:\n",
    "    print(\"The user has not defined the variable\")\n",
    "except Exception as ex:             \n",
    "    print(ex)\n",
    "else:\n",
    "    print(c)"
   ]
  },
  {
   "cell_type": "markdown",
   "metadata": {},
   "source": [
    "##### if there is any exception else block will not gets executed. If we want to execute any code after the try else block even after the exception we use finally"
   ]
  },
  {
   "cell_type": "code",
   "execution_count": 19,
   "metadata": {},
   "outputs": [
    {
     "name": "stdout",
     "output_type": "stream",
     "text": [
      "invalid literal for int() with base 10: ''\n",
      "The execution of the program is completed\n"
     ]
    }
   ],
   "source": [
    "## try-else-finally\n",
    "try:\n",
    "    a=int(input(\"Enter first number\"))\n",
    "    b=int(input(\"Enter second number\"))\n",
    "    c=a/b\n",
    "except ZeroDivisionError:\n",
    "    print(\"Enter the number greater than zero\")\n",
    "except Exception as ex:\n",
    "    print(ex)\n",
    "else:\n",
    "    print(c)\n",
    "finally:\n",
    "    print(\"The execution of the program is completed\")"
   ]
  },
  {
   "cell_type": "markdown",
   "metadata": {},
   "source": [
    "### Custom Exception"
   ]
  },
  {
   "cell_type": "code",
   "execution_count": 20,
   "metadata": {},
   "outputs": [],
   "source": [
    "class error(Exception):\n",
    "    pass\n",
    "\n",
    "class dobException(Exception):\n",
    "    pass\n"
   ]
  },
  {
   "cell_type": "code",
   "execution_count": 22,
   "metadata": {},
   "outputs": [
    {
     "name": "stdout",
     "output_type": "stream",
     "text": [
      "You are Valid for the exam\n"
     ]
    }
   ],
   "source": [
    "year=int(input(\"Enter the year of birth\"))\n",
    "age=2024-year\n",
    "try:\n",
    "    if age<=30 and age>20:\n",
    "        print(\"You are Valid for the exam\")\n",
    "    else:\n",
    "        raise dobException\n",
    "except dobException:\n",
    "    print(\"The year range is not valid. You are not eligible for the exam\")"
   ]
  },
  {
   "cell_type": "code",
   "execution_count": null,
   "metadata": {},
   "outputs": [],
   "source": []
  }
 ],
 "metadata": {
  "kernelspec": {
   "display_name": "Python 3",
   "language": "python",
   "name": "python3"
  },
  "language_info": {
   "codemirror_mode": {
    "name": "ipython",
    "version": 3
   },
   "file_extension": ".py",
   "mimetype": "text/x-python",
   "name": "python",
   "nbconvert_exporter": "python",
   "pygments_lexer": "ipython3",
   "version": "3.12.0"
  }
 },
 "nbformat": 4,
 "nbformat_minor": 2
}
